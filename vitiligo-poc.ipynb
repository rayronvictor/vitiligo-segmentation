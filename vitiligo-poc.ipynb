{
 "nbformat": 4,
 "nbformat_minor": 0,
 "metadata": {
  "colab": {
   "provenance": [],
   "gpuType": "T4",
   "mount_file_id": "1DVXN-JqZpgkK5Brg7m613EDj5BYGT5M8",
   "authorship_tag": "ABX9TyN8C0BedZVwfevZWhQ9knjD"
  },
  "kernelspec": {
   "name": "python3",
   "display_name": "Python 3"
  },
  "language_info": {
   "name": "python"
  },
  "accelerator": "GPU"
 },
 "cells": [
  {
   "cell_type": "markdown",
   "source": [
    "## ‼️ IMPORTANT! Change the environment execution to T4 GPU"
   ],
   "metadata": {
    "id": "dtabixnTDD5e"
   }
  },
  {
   "cell_type": "markdown",
   "source": [
    "### Connect to your Google Drive account"
   ],
   "metadata": {
    "id": "Fhu4sSSzCre1"
   }
  },
  {
   "cell_type": "code",
   "source": [
    "from google.colab import drive\n",
    "drive.mount('/content/drive/')"
   ],
   "metadata": {
    "id": "gWp37C1ICH3C"
   },
   "execution_count": null,
   "outputs": []
  },
  {
   "cell_type": "markdown",
   "source": [
    "### Clone the project and install dependencies"
   ],
   "metadata": {
    "id": "TQGodB9mCzM5"
   }
  },
  {
   "cell_type": "code",
   "source": [
    "!pip install pygit2==1.12.2\n",
    "%cd /content\n",
    "# %cd /content/drive/MyDrive\n",
    "!git clone https://github.com/rayronvictor/vitiligo-segmentation.git\n",
    "# %cd /content/drive/MyDrive/vitiligo-segmentation\n",
    "%cd /content/vitiligo-segmentation\n",
    "!pip install -r requirements.txt"
   ],
   "metadata": {
    "id": "_WmEUqjBpwWU"
   },
   "execution_count": null,
   "outputs": []
  },
  {
   "cell_type": "markdown",
   "source": [
    "### Run the app"
   ],
   "metadata": {
    "id": "G5sVo-cH10Ww"
   }
  },
  {
   "cell_type": "code",
   "source": [
    "!gradio app.py"
   ],
   "metadata": {
    "id": "SEa0WU1MFtdj",
    "colab": {
     "base_uri": "https://localhost:8080/"
    },
    "outputId": "f7a67396-74a1-4d4a-cc52-e00e607d9cd3"
   },
   "execution_count": null,
   "outputs": [
    {
     "output_type": "stream",
     "name": "stdout",
     "text": [
      "Watching: \u001B[32m'/content/vitiligo-segmentation'\u001B[0m\n",
      "\n",
      "Creating new Ultralytics Settings v0.0.6 file ✅ \n",
      "View Ultralytics Settings with 'yolo settings' or at '/root/.config/Ultralytics/settings.json'\n",
      "Update Settings with 'yolo settings key=value', i.e. 'yolo settings runs_dir=path/to/dir'. For help see https://docs.ultralytics.com/quickstart/#ultralytics-settings.\n",
      "* Running on local URL:  http://127.0.0.1:7860\n",
      "* Running on public URL: https://013ed31a52066aa7e1.gradio.live\n",
      "\n",
      "This share link expires in 1 week. For free permanent hosting and GPU upgrades, run `gradio deploy` from the terminal in the working directory to deploy to Hugging Face Spaces (https://huggingface.co/spaces)\n",
      "Downloading data from 'https://github.com/danielgatis/rembg/releases/download/v0.0.0/u2net.onnx' to file '/root/.u2net/u2net.onnx'.\n",
      "100%|████████████████████████████████████████| 176M/176M [00:00<00:00, 611GB/s]\n",
      "Sticker point: (296, 905)\n",
      "Downloading data from 'https://github.com/danielgatis/rembg/releases/download/v0.0.0/sam_vit_b_01ec64.encoder.onnx' to file '/root/.u2net/sam_vit_b_01ec64.encoder.onnx'.\n",
      "100%|███████████████████████████████████████| 359M/359M [00:00<00:00, 1.17TB/s]\n",
      "SHA256 hash of downloaded file: 62a29c39ebc8ae4dfc3d9ec8eae28c28efc8360233fa8ffba229eb9f6ac0c30a\n",
      "Use this value as the 'known_hash' argument of 'pooch.retrieve' to ensure that the file hasn't changed if it is downloaded again in the future.\n",
      "Downloading data from 'https://github.com/danielgatis/rembg/releases/download/v0.0.0/sam_vit_b_01ec64.decoder.onnx' to file '/root/.u2net/sam_vit_b_01ec64.decoder.onnx'.\n",
      "100%|█████████████████████████████████████| 16.5M/16.5M [00:00<00:00, 59.1GB/s]\n",
      "SHA256 hash of downloaded file: 9820a48a2d002aead7b4dab204d813176a810a5f1dc8f32e32f759cc070ae97e\n",
      "Use this value as the 'known_hash' argument of 'pooch.retrieve' to ensure that the file hasn't changed if it is downloaded again in the future.\n",
      "Sticker point: (113, 162)\n",
      "\n",
      "0: 416x416 4 vitiligos, 437.8ms\n",
      "Speed: 3.3ms preprocess, 437.8ms inference, 53.9ms postprocess per image at shape (1, 3, 416, 416)\n"
     ]
    }
   ]
  },
  {
   "cell_type": "markdown",
   "source": [
    "### Train de model"
   ],
   "metadata": {
    "id": "7KmA58UG15Q0"
   }
  },
  {
   "cell_type": "code",
   "source": [
    "!python train.py"
   ],
   "metadata": {
    "id": "z7buuhAHrg2T"
   },
   "execution_count": null,
   "outputs": []
  }
 ]
}
